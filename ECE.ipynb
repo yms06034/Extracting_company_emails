{
 "cells": [
  {
   "cell_type": "code",
   "execution_count": 1,
   "id": "0e64a88e",
   "metadata": {},
   "outputs": [],
   "source": [
    "from selenium import webdriver\n",
    "from selenium.webdriver.common.by import By\n",
    "from selenium.webdriver.common.keys import Keys\n",
    "from selenium.webdriver.chrome.options import Options\n",
    "from selenium.webdriver.chrome.service import Service\n",
    "from selenium.common.exceptions import NoSuchElementException\n",
    "from selenium.webdriver.support.ui import WebDriverWait\n",
    "from selenium.webdriver.support import expected_conditions as EC\n",
    "\n",
    "from webdriver_manager.chrome import ChromeDriverManager\n",
    "\n",
    "from bs4 import BeautifulSoup as BS\n",
    "from datetime import datetime\n",
    "\n",
    "import pandas as pd\n",
    "import time\n",
    "import sys, os\n",
    "import re\n",
    "import json\n",
    "\n",
    "\n",
    "def find_css(css_selector, browser):\n",
    "    return browser.find_element(By.CSS_SELECTOR, css_selector)\n",
    "def finds_css(css_selector, browser):\n",
    "    return browser.find_elements(By.CSS_SELECTOR, css_selector)\n",
    "\n",
    "def find_xpath(xpath, browser):\n",
    "    return browser.find_element(By.XPATH, xpath)\n",
    "def finds_xpath(xpath, browser):\n",
    "    return browser.find_elements(By.XPATH, xpath)\n",
    "\n",
    "def find_id(e_id, browser):\n",
    "    return browser.find_element(By.ID, e_id)\n",
    "\n",
    "def find_className(cn, browser):\n",
    "    return browser.find_element(By.CLASS_NAME, cn)\n",
    "def finds_className(cn , browser):\n",
    "    return browser.find_elements(By.CLASS_NAME, cn)\n",
    "\n",
    "def find_linktext(lt, browser):\n",
    "    return browser.find_element(By.LINK_TEXT, lt)\n",
    "\n",
    "def find_name(name, browser):\n",
    "    return browser.find_element(By.NAME, name)\n",
    "def finds_name(name, browser):\n",
    "    return browser.find_elements(By.NAME, name)\n",
    "\n",
    "def find_tagName(tag_name, browser):\n",
    "    return browser.find_element(By.TAG_NAME, tag_name)\n",
    "\n",
    "def finds_tagName(tag_name, browser):\n",
    "    return browser.find_elements(By.TAG_NAME, tag_name)\n",
    "\n",
    "def resource_path(relative_path):\n",
    "    \"\"\" Get absolute path to resource, works for dev and for PyInstaller \"\"\"\n",
    "    base_path = getattr(sys, '_MEIPASS', os.path.dirname(os.path.abspath(__file__)))\n",
    "    return os.path.join(base_path, relative_path)"
   ]
  },
  {
   "cell_type": "code",
   "execution_count": 2,
   "id": "adacbc8d",
   "metadata": {},
   "outputs": [],
   "source": [
    "def open_browser():\n",
    "    options = webdriver.ChromeOptions()\n",
    "    options.add_argument('--no--sandbox')\n",
    "    options.add_argument('no-sandbox')\n",
    "    options.add_argument('--disable-dev-shm-suage')\n",
    "    options.add_argument('--window-size=1080,800')\n",
    "    options.add_argument('incognito')\n",
    "    chrome_service = Service('chromedriver')\n",
    "    chrome_service = Service(executable_path='chromedriver.exe')\n",
    "    \n",
    "    browser = webdriver.Chrome(service=chrome_service, options=options)\n",
    "    \n",
    "    return browser"
   ]
  },
  {
   "cell_type": "code",
   "execution_count": 4,
   "id": "7f26a842",
   "metadata": {},
   "outputs": [],
   "source": [
    "def get_url(browser, url):\n",
    "    browser.get(url)\n",
    "    time.sleep(1)\n",
    "    "
   ]
  },
  {
   "cell_type": "code",
   "execution_count": 6,
   "id": "0d719f63",
   "metadata": {},
   "outputs": [],
   "source": [
    "df = pd.read_excel('전국_상장회사_data.xlsx', 'seoul_data')"
   ]
  },
  {
   "cell_type": "code",
   "execution_count": 94,
   "id": "466dc0bc",
   "metadata": {},
   "outputs": [],
   "source": [
    "url_list = df['홈페이지'].to_list()\n",
    "company_name_list = df['회사명'].to_list()"
   ]
  },
  {
   "cell_type": "code",
   "execution_count": 25,
   "id": "9352b2ba",
   "metadata": {},
   "outputs": [],
   "source": [
    "browser = open_browser()\n",
    "get_url(browser ,url_list[1])"
   ]
  },
  {
   "cell_type": "code",
   "execution_count": 29,
   "id": "1fd4a427",
   "metadata": {},
   "outputs": [],
   "source": [
    "browser = open_browser()\n",
    "\n",
    "for url in url_list:\n",
    "    get_url(browser, url)\n",
    "    soup = BS(browser.page_source, 'html.parser')\n",
    "\n",
    "    footer_text = soup.find('footer').get_text() if soup.find('footer') else None\n",
    "    print(footer_text)\n",
    "    print('--' * 20)\n",
    "    time.sleep(1)"
   ]
  },
  {
   "cell_type": "markdown",
   "id": "a80a98ad",
   "metadata": {},
   "source": [
    "footer을 가져오는 것은 None가 너무 많이 발생해 Pass\n",
    "다른 방안을 고안"
   ]
  },
  {
   "cell_type": "code",
   "execution_count": 92,
   "id": "40813c34",
   "metadata": {},
   "outputs": [],
   "source": [
    "get_url(browser ,url_list[3])"
   ]
  },
  {
   "cell_type": "code",
   "execution_count": 95,
   "id": "10b4a8d7",
   "metadata": {},
   "outputs": [
    {
     "data": {
      "text/plain": [
       "'스톰테크'"
      ]
     },
     "execution_count": 95,
     "metadata": {},
     "output_type": "execute_result"
    }
   ],
   "source": [
    "company_name_list[3]"
   ]
  },
  {
   "cell_type": "code",
   "execution_count": 97,
   "id": "cbafbe6d",
   "metadata": {},
   "outputs": [
    {
     "name": "stdout",
     "output_type": "stream",
     "text": [
      "['E-mail :  bill@stormtec.co.kr']\n",
      "스톰테크\n",
      "['E-mail :  sales@stormtec.co.kr']\n",
      "스톰테크\n"
     ]
    }
   ],
   "source": [
    "soup = BS(browser.page_source, 'html.parser')\n",
    "\n",
    "# \"@\"이 포함된 텍스트만 출력\n",
    "# 정규식 패턴\n",
    "email_pattern = re.compile(r'^[a-zA-Z0-9+-_.]+@[a-zA-Z0-9-]+\\.[a-zA-Z0-9-.]+$')\n",
    "email_pattern2 = re.compile(r'^.*[a-zA-Z0-9+-_.]+@[a-zA-Z0-9-]+\\.[a-zA-Z0-9-.]+$')\n",
    "\n",
    "elements = soup.get_text()\n",
    "elements = elements.split('\\n')\n",
    "\n",
    "data = {}\n",
    "\n",
    "\n",
    "for i in elements:\n",
    "    matches = re.findall(email_pattern2, i)\n",
    "    if len(matches) >= 1:\n",
    "        print(matches)"
   ]
  },
  {
   "cell_type": "code",
   "execution_count": 47,
   "id": "a197b4fe",
   "metadata": {},
   "outputs": [
    {
     "name": "stdout",
     "output_type": "stream",
     "text": [
      "[]\n",
      "[]\n",
      "[]\n",
      "[]\n",
      "[]\n",
      "[]\n",
      "[]\n",
      "[]\n",
      "[]\n",
      "[]\n",
      "[]\n",
      "[]\n",
      "[]\n",
      "[]\n",
      "[]\n",
      "[]\n",
      "[]\n",
      "[]\n",
      "[]\n",
      "[]\n",
      "[]\n",
      "[]\n",
      "[]\n",
      "[]\n",
      "[]\n",
      "[]\n",
      "[]\n",
      "[]\n",
      "[]\n",
      "[]\n",
      "[]\n",
      "[]\n",
      "[]\n",
      "[]\n",
      "[]\n",
      "[]\n",
      "[]\n",
      "[]\n",
      "[]\n",
      "[]\n",
      "[]\n",
      "[]\n",
      "[]\n",
      "[]\n",
      "[]\n",
      "[]\n",
      "[]\n",
      "[]\n",
      "[]\n",
      "[]\n",
      "[]\n",
      "[]\n",
      "[]\n",
      "[]\n",
      "[]\n",
      "[]\n",
      "[]\n",
      "[]\n",
      "[]\n",
      "[]\n",
      "[]\n",
      "[]\n",
      "[]\n",
      "[]\n",
      "[]\n",
      "[]\n",
      "['info@dong-in.com']\n",
      "[]\n",
      "[]\n",
      "[]\n",
      "[]\n",
      "[]\n",
      "[]\n",
      "[]\n",
      "[]\n",
      "[]\n",
      "[]\n",
      "[]\n",
      "[]\n",
      "[]\n",
      "[]\n",
      "[]\n",
      "[]\n",
      "[]\n",
      "[]\n",
      "[]\n",
      "[]\n",
      "[]\n",
      "[]\n",
      "[]\n",
      "[]\n",
      "[]\n",
      "[]\n",
      "[]\n",
      "[]\n",
      "[]\n",
      "[]\n",
      "[]\n",
      "[]\n",
      "[]\n",
      "[]\n",
      "['info@dong-in.com']\n",
      "[]\n",
      "[]\n",
      "[]\n",
      "[]\n",
      "[]\n",
      "[]\n"
     ]
    }
   ],
   "source": [
    "email_addresses = []\n",
    "\n",
    "for a_tag in soup.find_all('a', href=True):\n",
    "    if 'mailto:' in a_tag['href']:\n",
    "        email_addresses.append(a_tag['href'].split(':')[1])\n",
    "\n",
    "for span_tag in soup.find_all('span'):\n",
    "    email_addresses.append(span_tag.get_text())\n",
    "\n",
    "# 결과 출력\n",
    "# print(email_addresses)\n",
    "for i in email_addresses:\n",
    "    matches = re.findall(email_pattern, i)\n",
    "    print(matches)"
   ]
  },
  {
   "cell_type": "code",
   "execution_count": 66,
   "id": "56066e68",
   "metadata": {},
   "outputs": [
    {
     "data": {
      "text/plain": [
       "['',\n",
       " '',\n",
       " '',\n",
       " 'This is the first paragraph.',\n",
       " 'This is the second paragraph.',\n",
       " 'This is the third paragraph.',\n",
       " '',\n",
       " '',\n",
       " '']"
      ]
     },
     "execution_count": 66,
     "metadata": {},
     "output_type": "execute_result"
    }
   ],
   "source": [
    "from bs4 import BeautifulSoup\n",
    "\n",
    "# 예시로 사용할 HTML\n",
    "html = \"\"\"\n",
    "<html>\n",
    "  <body>\n",
    "    <p>This is the first paragraph.</p>\n",
    "    <p>This is the second paragraph.</p>\n",
    "    <p>This is the third paragraph.</p>\n",
    "  </body>\n",
    "</html>\n",
    "\"\"\"\n",
    "\n",
    "# BeautifulSoup 객체 생성\n",
    "soup = BeautifulSoup(html, 'html.parser')\n",
    "\n",
    "# 모든 텍스트 가져오기\n",
    "all_text = soup.get_text()\n",
    "\n",
    "all_text.split('\\n')"
   ]
  }
 ],
 "metadata": {
  "kernelspec": {
   "display_name": "Python 3 (ipykernel)",
   "language": "python",
   "name": "python3"
  },
  "language_info": {
   "codemirror_mode": {
    "name": "ipython",
    "version": 3
   },
   "file_extension": ".py",
   "mimetype": "text/x-python",
   "name": "python",
   "nbconvert_exporter": "python",
   "pygments_lexer": "ipython3",
   "version": "3.10.9"
  }
 },
 "nbformat": 4,
 "nbformat_minor": 5
}
